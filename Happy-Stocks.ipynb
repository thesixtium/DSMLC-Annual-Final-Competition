{
 "cells": [
  {
   "cell_type": "code",
   "execution_count": 1,
   "id": "fd40953d",
   "metadata": {},
   "outputs": [],
   "source": [
    "import os\n",
    "import joblib\n",
    "import csv\n",
    "import random\n",
    "import requests\n",
    "import pandas as pd"
   ]
  },
  {
   "cell_type": "code",
   "execution_count": 2,
   "id": "2d56a3e1",
   "metadata": {},
   "outputs": [
    {
     "name": "stdout",
     "output_type": "stream",
     "text": [
      "198\n"
     ]
    }
   ],
   "source": [
    "f = open(\"columns.txt\", \"r\")\n",
    "columns = f.read().split('-')[:-1]\n",
    "f.close()\n",
    "print(len(columns))"
   ]
  },
  {
   "cell_type": "code",
   "execution_count": 3,
   "id": "aee8f799",
   "metadata": {},
   "outputs": [
    {
     "name": "stdout",
     "output_type": "stream",
     "text": [
      "11\n"
     ]
    }
   ],
   "source": [
    "good_models = []\n",
    "\n",
    "for file in os.listdir(\".\"):\n",
    "    if file.endswith(\".pkl\"):\n",
    "        good_models.append(joblib.load(file))\n",
    "\n",
    "print(len(good_models))"
   ]
  },
  {
   "cell_type": "markdown",
   "id": "b83812cf",
   "metadata": {},
   "source": [
    "## Get Stock Info"
   ]
  },
  {
   "cell_type": "code",
   "execution_count": 4,
   "id": "6797ebda",
   "metadata": {},
   "outputs": [],
   "source": [
    "blue_chip_stock_200DayMovingAverage_max = 300\n",
    "api_keys = [\n",
    "    \"2RFQ9MPXDZ19H8ZB\", \"5HNZLHHXQ49419OW\", \"AD4QHR1QWWPX3PAZ\",\n",
    "    \"DROMFL8PK13N9PVP\", \"0Z6NF5RSECY0KSUT\", \"43GLZYIC6DFBYGIT\",\n",
    "    \"KUJBKMRA90WZSS7B\"]"
   ]
  },
  {
   "cell_type": "code",
   "execution_count": 5,
   "id": "25256779",
   "metadata": {},
   "outputs": [],
   "source": [
    "def transform_stock(symbol):\n",
    "    column_names = columns\n",
    "    column_values = columns\n",
    "    \n",
    "    # Get General Data\n",
    "    url = f'https://www.alphavantage.co/query?function=OVERVIEW&symbol={symbol}&apikey={random.choice(api_keys)}'\n",
    "    r = requests.get(url)\n",
    "    data = r.json()\n",
    "    \n",
    "    # Year\n",
    "    column_values[0] = 1\n",
    " \n",
    "    csv_file = csv.reader(open('pickable_stocks.csv', 'r'), delimiter=',')\n",
    "    \n",
    "    for row in csv_file:\n",
    "        if symbol == row[7]:\n",
    "            if row[7] != None:\n",
    "                column_values[0] = ((row[7]%8)+2023)/8\n",
    "            break\n",
    "    \n",
    "    # Country\n",
    "    country = data[\"Country\"]\n",
    "    if country == \"USA\":\n",
    "        country = 'United States'\n",
    "    country = f\"('{country}',)\"\n",
    "    \n",
    "    for i in range(6, len(column_values)):\n",
    "        if column_values[i] == country:\n",
    "            column_values[i] = 1\n",
    "        else:\n",
    "            column_values[i] = 0\n",
    "    \n",
    "    # Economy\n",
    "    column_values[2] = float(data[\"200DayMovingAverage\"])/blue_chip_stock_200DayMovingAverage_max\n",
    "    \n",
    "    # Health\n",
    "    column_values[3] = float(data['ProfitMargin'])\n",
    "    \n",
    "    # Freedom\n",
    "    column_values[4] = min(float(data['DividendYield']) * 100, 1)\n",
    "    \n",
    "    # Corruption\n",
    "    column_values[5] = min(float(data['MarketCapitalization']) / (2 * (10**12)), 1)\n",
    "    \n",
    "    # Get Sentiment Analysis Data\n",
    "    url = f'https://www.alphavantage.co/query?function=NEWS_SENTIMENT&tickers{symbol}&apikey={random.choice(api_keys)}'\n",
    "    r = requests.get(url)\n",
    "    data = r.json()\n",
    "    \n",
    "    # Happiness\n",
    "    happiness = []\n",
    "    for item in data[\"feed\"]:\n",
    "        for ticker in item[\"ticker_sentiment\"]:\n",
    "            if ticker[\"ticker\"] == symbol:\n",
    "                happiness.append(float(ticker[\"ticker_sentiment_score\"]) * float(ticker[\"relevance_score\"]))\n",
    "\n",
    "    if len(happiness) == 0:\n",
    "       column_values[1] = 0.5\n",
    "    else:\n",
    "        score = ((sum(happiness)/len(happiness)) + 0.35) / 0.7\n",
    "        column_values[2] = max(min(score, 1), 0)\n",
    "    \n",
    "    return pd.DataFrame([column_values], columns=column_names)"
   ]
  },
  {
   "cell_type": "code",
   "execution_count": 6,
   "id": "f923460a",
   "metadata": {},
   "outputs": [],
   "source": [
    "def predict_stock(stock):\n",
    "    stock_transform = transform_stock(stock)\n",
    "    predictions = []\n",
    "    \n",
    "    for model in good_models:\n",
    "        predictions.append(model.predict(stock_transform.values))\n",
    "    \n",
    "    prediction = sum(predictions)[0] / len(predictions)\n",
    "    \n",
    "    return [stock, prediction]"
   ]
  },
  {
   "cell_type": "code",
   "execution_count": 7,
   "id": "da3e42cd",
   "metadata": {},
   "outputs": [],
   "source": [
    "def predict_random_stock():\n",
    "    csv_file = csv.reader(open('pickable_stocks.csv', 'r'), delimiter=',')\n",
    "    chosen_row = random.choice(list(csv_file))\n",
    "    \n",
    "    return predict_stock(chosen_row[0])"
   ]
  },
  {
   "cell_type": "code",
   "execution_count": 8,
   "id": "7be442bc",
   "metadata": {},
   "outputs": [
    {
     "data": {
      "text/plain": [
       "['AMZN', 0.21531858392139316]"
      ]
     },
     "execution_count": 8,
     "metadata": {},
     "output_type": "execute_result"
    }
   ],
   "source": [
    "predict_stock(\"AMZN\")"
   ]
  },
  {
   "cell_type": "code",
   "execution_count": null,
   "id": "2ef6684f",
   "metadata": {},
   "outputs": [],
   "source": []
  }
 ],
 "metadata": {
  "kernelspec": {
   "display_name": "Python 3 (ipykernel)",
   "language": "python",
   "name": "python3"
  },
  "language_info": {
   "codemirror_mode": {
    "name": "ipython",
    "version": 3
   },
   "file_extension": ".py",
   "mimetype": "text/x-python",
   "name": "python",
   "nbconvert_exporter": "python",
   "pygments_lexer": "ipython3",
   "version": "3.10.5"
  }
 },
 "nbformat": 4,
 "nbformat_minor": 5
}
