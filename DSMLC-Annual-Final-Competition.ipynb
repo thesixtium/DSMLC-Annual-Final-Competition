{
 "cells": [
  {
   "cell_type": "markdown",
   "id": "d363c04c",
   "metadata": {},
   "source": [
    "# DSMLC Annual Final Competition"
   ]
  },
  {
   "cell_type": "markdown",
   "id": "133abe42",
   "metadata": {},
   "source": [
    "## Imports"
   ]
  },
  {
   "cell_type": "code",
   "execution_count": 143,
   "id": "9a7b5cdb",
   "metadata": {},
   "outputs": [],
   "source": [
    "import pandas as pd\n",
    "import numpy as np\n",
    "import math\n",
    "from sklearn.pipeline import Pipeline\n",
    "from sklearn.preprocessing import StandardScaler, OneHotEncoder\n",
    "from sklearn.impute import SimpleImputer\n",
    "from sklearn.compose import ColumnTransformer"
   ]
  },
  {
   "cell_type": "markdown",
   "id": "c8e852d7",
   "metadata": {},
   "source": [
    "## Import Data"
   ]
  },
  {
   "cell_type": "code",
   "execution_count": 186,
   "id": "97af2cc5",
   "metadata": {},
   "outputs": [],
   "source": [
    "def load_data():\n",
    "    # The columns we will make\n",
    "    column_names = ['Year', 'Country', 'Happiness', 'Economy', 'Health', 'Freedom', 'Generosity', 'Corruption']\n",
    "    main_dataframe = pd.DataFrame(columns=column_names)\n",
    "    \n",
    "    # Import xls sheet\n",
    "    xls = pd.ExcelFile('World Happiness Datasets (2015-2022).xlsx')\n",
    "    \n",
    "    for i in range(2015, 2023):\n",
    "        # Read Dataframe In\n",
    "        dataframe = pd.read_excel(xls, f'{i}')\n",
    "        \n",
    "        # Read in year\n",
    "        year = [i for _ in dataframe[dataframe.columns[0]]]\n",
    "        dataframe['Year'] = year\n",
    "        \n",
    "        # Get Old Columns\n",
    "        old_columns = []\n",
    "        if i == 2015 or i == 2016:\n",
    "            old_columns = ['Year', 'Country','Happiness Score', 'Economy (GDP per Capita)', 'Health (Life Expectancy)', 'Freedom', 'Generosity', 'Trust (Government Corruption)']\n",
    "        elif i == 2017:\n",
    "            old_columns = ['Year', 'Country','Happiness.Score', 'Economy..GDP.per.Capita.', 'Health..Life.Expectancy.', 'Freedom', 'Generosity', 'Trust..Government.Corruption.']\n",
    "        elif i == 2018 or i == 2019:\n",
    "            old_columns = ['Year', 'Country or region','Score', 'GDP per capita', 'Healthy life expectancy', 'Freedom to make life choices', 'Generosity', 'Perceptions of corruption']\n",
    "        elif i == 2020 or i == 2021:\n",
    "            old_columns = ['Year', 'Country name','Ladder score', 'Explained by: Log GDP per capita', 'Explained by: Healthy life expectancy', 'Explained by: Freedom to make life choices', 'Explained by: Generosity', 'Explained by: Perceptions of corruption']\n",
    "        else:\n",
    "            old_columns = ['Year', 'Country','Happiness score', 'Explained by: GDP per capita', 'Explained by: Healthy life expectancy', 'Explained by: Freedom to make life choices', 'Explained by: Generosity', 'Explained by: Perceptions of corruption']\n",
    "        \n",
    "        # Get Only Needed Columns\n",
    "        dataframe = dataframe.filter(old_columns)\n",
    "        \n",
    "        # Rename Columns\n",
    "        for column in range(len(column_names)):\n",
    "            dataframe = dataframe.rename(columns={\n",
    "                old_columns[column]: column_names[column]\n",
    "            })\n",
    "        \n",
    "        # Modify needed columns\n",
    "        if i == 2018:\n",
    "            dataframe['Economy'] = dataframe['Economy'].apply(lambda x: x/1000)\n",
    "            dataframe['Happiness'] = dataframe['Happiness'].apply(lambda x: x/1000)\n",
    "        np.seterr(divide = 'ignore') \n",
    "        if i != 2020 and i != 2021:\n",
    "            dataframe['Economy'] = np.log10(dataframe['Economy'])\n",
    "        np.seterr(divide = 'warn') \n",
    "        \n",
    "        # Add dataframe to main dataframe\n",
    "        main_dataframe = pd.concat([main_dataframe, dataframe])\n",
    "    \n",
    "    # Replace inf and -inf with NaN, then Imputer all NaN's\n",
    "    main_dataframe = main_dataframe.replace([np.inf, -np.inf], np.NaN)\n",
    "    main_dataframe = main_dataframe.fillna(main_dataframe.mean(numeric_only=True))\n",
    "    \n",
    "    return main_dataframe\n",
    "    \n",
    "    "
   ]
  },
  {
   "cell_type": "code",
   "execution_count": 187,
   "id": "4639315e",
   "metadata": {},
   "outputs": [],
   "source": [
    "all_data = load_data()"
   ]
  },
  {
   "cell_type": "markdown",
   "id": "c158b275",
   "metadata": {},
   "source": [
    "## Create Test and Training Sets"
   ]
  },
  {
   "cell_type": "code",
   "execution_count": 188,
   "id": "b31c704a",
   "metadata": {},
   "outputs": [],
   "source": [
    "def split_train_test(data, test_ratio):\n",
    "    shuffled_indices = np.random.permutation(len(data))\n",
    "    test_set_size = int(len(data) * test_ratio)\n",
    "    test_indices = shuffled_indices[:test_set_size]\n",
    "    train_indices = shuffled_indices[test_set_size:]\n",
    "    return data.iloc[train_indices], data.iloc[test_indices]"
   ]
  },
  {
   "cell_type": "code",
   "execution_count": 189,
   "id": "d218af89",
   "metadata": {},
   "outputs": [],
   "source": [
    "train_set, test_set = split_train_test(all_data, 0.2)"
   ]
  },
  {
   "cell_type": "code",
   "execution_count": 190,
   "id": "59a0a536",
   "metadata": {},
   "outputs": [
    {
     "data": {
      "text/plain": [
       "985"
      ]
     },
     "execution_count": 190,
     "metadata": {},
     "output_type": "execute_result"
    }
   ],
   "source": [
    "len(train_set)"
   ]
  },
  {
   "cell_type": "code",
   "execution_count": 191,
   "id": "8fa01507",
   "metadata": {},
   "outputs": [
    {
     "data": {
      "text/plain": [
       "246"
      ]
     },
     "execution_count": 191,
     "metadata": {},
     "output_type": "execute_result"
    }
   ],
   "source": [
    "len(test_set)"
   ]
  },
  {
   "cell_type": "markdown",
   "id": "0395549c",
   "metadata": {},
   "source": [
    "## Transformation Pipeline"
   ]
  },
  {
   "cell_type": "code",
   "execution_count": 192,
   "id": "47d352e6",
   "metadata": {},
   "outputs": [],
   "source": [
    "def transform_data(data):\n",
    "    \n",
    "    one_hot_encoder = OneHotEncoder()\n",
    "    data_one_hot = one_hot_encoder.fit_transform(data['Country'].values.reshape(-1,1))\n",
    "    \n",
    "    one_hot_categories = one_hot_encoder.categories_\n",
    "    one_hot_data = data_one_hot.toarray()\n",
    "    \n",
    "    numberic_data = data.drop(columns=['Country'])\n",
    "\n",
    "    pipeline = Pipeline([\n",
    "        ('imputer', SimpleImputer(strategy='median')),\n",
    "        ('std_scaler', StandardScaler())\n",
    "    ])\n",
    "    \n",
    "    all_data_pipelined = pipeline.fit_transform(numberic_data)"
   ]
  },
  {
   "cell_type": "code",
   "execution_count": 194,
   "id": "510c7545",
   "metadata": {
    "scrolled": true
   },
   "outputs": [],
   "source": [
    "transform_data(train_set)"
   ]
  },
  {
   "cell_type": "code",
   "execution_count": 195,
   "id": "7894f086",
   "metadata": {},
   "outputs": [
    {
     "data": {
      "text/plain": [
       "<bound method NDFrame.describe of      Year     Country    Happiness   Economy    Health   Freedom  Generosity  \\\n",
       "82   2017  Montenegro     5.237000  0.049656  0.667465  0.194989    0.197911   \n",
       "52   2019      Latvia     5.940000  0.074451  0.812000  0.264000    0.075000   \n",
       "18   2018      Israel     0.006814 -2.885723  0.883000  0.533000    0.354000   \n",
       "103  2022      Niger*  5003.000000 -0.244125  0.326000  0.571000    0.165000   \n",
       "44   2022   Nicaragua  6165.000000  3.043362  0.617000  0.617000    0.168000   \n",
       "..    ...         ...          ...       ...       ...       ...         ...   \n",
       "95   2017  Tajikistan     5.041000 -0.280078  0.529235  0.471567    0.248998   \n",
       "36   2022      Panama  6309.000000  3.234264  0.709000  0.592000    0.049000   \n",
       "40   2022      Cyprus  6221.000000  3.258877  0.819000  0.448000    0.123000   \n",
       "88   2017    Portugal     5.195000  0.118984  0.795844  0.498465    0.095103   \n",
       "101  2016        Laos     4.876000 -0.167223  0.382910  0.521680    0.430790   \n",
       "\n",
       "     Corruption  \n",
       "82     0.088174  \n",
       "52     0.064000  \n",
       "18     0.272000  \n",
       "103    0.145000  \n",
       "44     0.212000  \n",
       "..          ...  \n",
       "95     0.146377  \n",
       "36     0.051000  \n",
       "40     0.062000  \n",
       "88     0.015869  \n",
       "101    0.224230  \n",
       "\n",
       "[985 rows x 8 columns]>"
      ]
     },
     "execution_count": 195,
     "metadata": {},
     "output_type": "execute_result"
    }
   ],
   "source": [
    "train_set.describe"
   ]
  },
  {
   "cell_type": "code",
   "execution_count": null,
   "id": "87a4bc97",
   "metadata": {},
   "outputs": [],
   "source": []
  }
 ],
 "metadata": {
  "kernelspec": {
   "display_name": "Python 3 (ipykernel)",
   "language": "python",
   "name": "python3"
  },
  "language_info": {
   "codemirror_mode": {
    "name": "ipython",
    "version": 3
   },
   "file_extension": ".py",
   "mimetype": "text/x-python",
   "name": "python",
   "nbconvert_exporter": "python",
   "pygments_lexer": "ipython3",
   "version": "3.10.5"
  }
 },
 "nbformat": 4,
 "nbformat_minor": 5
}
