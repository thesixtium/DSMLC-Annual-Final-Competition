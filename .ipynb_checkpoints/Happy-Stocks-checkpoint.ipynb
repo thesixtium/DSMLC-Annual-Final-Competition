{
 "cells": [
  {
   "cell_type": "code",
   "execution_count": 12,
   "id": "97be4498",
   "metadata": {},
   "outputs": [],
   "source": [
    "import requests\n",
    "\n",
    "import joblib\n",
    "import os"
   ]
  },
  {
   "cell_type": "markdown",
   "id": "c2e9c43a",
   "metadata": {},
   "source": [
    "## Get Models"
   ]
  },
  {
   "cell_type": "code",
   "execution_count": 13,
   "id": "d8305580",
   "metadata": {},
   "outputs": [
    {
     "name": "stdout",
     "output_type": "stream",
     "text": [
      "Loading Decision Tree Regressor.pkl\n",
      "Loading Random Forest Regressor.pkl\n"
     ]
    }
   ],
   "source": [
    "models = []\n",
    "files = os.listdir()\n",
    "\n",
    "for item in files:\n",
    "    if item.endswith(\".pkl\"):\n",
    "        print(f'Loading {item}')\n",
    "        models.append(joblib.load(item))"
   ]
  },
  {
   "cell_type": "markdown",
   "id": "92276f68",
   "metadata": {},
   "source": [
    "## Get Stock Info"
   ]
  },
  {
   "cell_type": "code",
   "execution_count": null,
   "id": "3d8379a4",
   "metadata": {},
   "outputs": [],
   "source": [
    "column_names = ['Year', 'Country', 'Happiness', 'Economy', 'Health', 'Freedom', 'Generosity', 'Corruption']\n",
    "\n",
    "'''\n",
    "Year: Founding year moduloed and adjusted\n",
    "Country: Country\n",
    "Happiness: Sentiment Analysis\n",
    "Economy: Stock Price\n",
    "Health: Profit Margin\n",
    "Freedom: DividendYield\n",
    "Corruption: MarketCapitalization\n",
    "\n",
    "Generosity: How much to buy (or not)\n",
    "'''"
   ]
  },
  {
   "cell_type": "code",
   "execution_count": 26,
   "id": "b09857b0",
   "metadata": {},
   "outputs": [
    {
     "name": "stdout",
     "output_type": "stream",
     "text": [
      "{'Symbol': 'AAPL', 'AssetType': 'Common Stock', 'Name': 'Apple Inc', 'Description': \"Apple Inc. is an American multinational technology company that specializes in consumer electronics, computer software, and online services. Apple is the world's largest technology company by revenue (totalling $274.5 billion in 2020) and, since January 2021, the world's most valuable company. As of 2021, Apple is the world's fourth-largest PC vendor by unit sales, and fourth-largest smartphone manufacturer. It is one of the Big Five American information technology companies, along with Amazon, Google, Microsoft, and Facebook.\", 'CIK': '320193', 'Exchange': 'NASDAQ', 'Currency': 'USD', 'Country': 'USA', 'Sector': 'TECHNOLOGY', 'Industry': 'ELECTRONIC COMPUTERS', 'Address': 'ONE INFINITE LOOP, CUPERTINO, CA, US', 'FiscalYearEnd': 'September', 'LatestQuarter': '2022-12-31', 'MarketCapitalization': '2420592607000', 'EBITDA': '125287997000', 'PERatio': '25.63', 'PEGRatio': '2.75', 'BookValue': '3.581', 'DividendPerShare': '0.91', 'DividendYield': '0.0061', 'EPS': '5.97', 'RevenuePerShareTTM': '24.08', 'ProfitMargin': '0.246', 'OperatingMarginTTM': '0.294', 'ReturnOnAssetsTTM': '0.196', 'ReturnOnEquityTTM': '1.479', 'RevenueTTM': '387537011000', 'GrossProfitTTM': '170782000000', 'DilutedEPSTTM': '5.97', 'QuarterlyEarningsGrowthYOY': '-0.105', 'QuarterlyRevenueGrowthYOY': '-0.055', 'AnalystTargetPrice': '169.23', 'TrailingPE': '25.63', 'ForwardPE': '23.09', 'PriceToSalesRatioTTM': '5.51', 'PriceToBookRatio': '44.63', 'EVToRevenue': '5.92', 'EVToEBITDA': '17.53', 'Beta': '1.297', '52WeekHigh': '178.53', '52WeekLow': '123.98', '50DayMovingAverage': '144.79', '200DayMovingAverage': '147.61', 'SharesOutstanding': '15821900000', 'DividendDate': '2023-02-16', 'ExDividendDate': '2023-02-10'}\n",
      "{'Symbol': 'AAPL', 'AssetType': 'Common Stock', 'Name': 'Apple Inc', 'Description': \"Apple Inc. is an American multinational technology company that specializes in consumer electronics, computer software, and online services. Apple is the world's largest technology company by revenue (totalling $274.5 billion in 2020) and, since January 2021, the world's most valuable company. As of 2021, Apple is the world's fourth-largest PC vendor by unit sales, and fourth-largest smartphone manufacturer. It is one of the Big Five American information technology companies, along with Amazon, Google, Microsoft, and Facebook.\", 'CIK': '320193', 'Exchange': 'NASDAQ', 'Currency': 'USD', 'Country': 'USA', 'Sector': 'TECHNOLOGY', 'Industry': 'ELECTRONIC COMPUTERS', 'Address': 'ONE INFINITE LOOP, CUPERTINO, CA, US', 'FiscalYearEnd': 'September', 'LatestQuarter': '2022-12-31', 'MarketCapitalization': '2420592607000', 'EBITDA': '125287997000', 'PERatio': '25.63', 'PEGRatio': '2.75', 'BookValue': '3.581', 'DividendPerShare': '0.91', 'DividendYield': '0.0061', 'EPS': '5.97', 'RevenuePerShareTTM': '24.08', 'ProfitMargin': '0.246', 'OperatingMarginTTM': '0.294', 'ReturnOnAssetsTTM': '0.196', 'ReturnOnEquityTTM': '1.479', 'RevenueTTM': '387537011000', 'GrossProfitTTM': '170782000000', 'DilutedEPSTTM': '5.97', 'QuarterlyEarningsGrowthYOY': '-0.105', 'QuarterlyRevenueGrowthYOY': '-0.055', 'AnalystTargetPrice': '169.23', 'TrailingPE': '25.63', 'ForwardPE': '23.09', 'PriceToSalesRatioTTM': '5.51', 'PriceToBookRatio': '44.63', 'EVToRevenue': '5.92', 'EVToEBITDA': '17.53', 'Beta': '1.297', '52WeekHigh': '178.53', '52WeekLow': '123.98', '50DayMovingAverage': '144.79', '200DayMovingAverage': '147.61', 'SharesOutstanding': '15821900000', 'DividendDate': '2023-02-16', 'ExDividendDate': '2023-02-10'}\n",
      "Country:\t USA\n"
     ]
    }
   ],
   "source": [
    "api_key = \"2RFQ9MPXDZ19H8ZB\"\n",
    "# https://www.alphavantage.co/documentation/\n",
    "\n",
    "import requests\n",
    "\n",
    "# replace the \"demo\" apikey below with your own key from https://www.alphavantage.co/support/#api-key\n",
    "url = f'https://www.alphavantage.co/query?function=OVERVIEW&symbol=AAPL&apikey={api_key}'\n",
    "r = requests.get(url)\n",
    "data = r.json()\n",
    "\n",
    "print(data)\n",
    "\n",
    "url = f'https://www.alphavantage.co/query?function=OVERVIEW&symbol=AAPL&apikey={api_key}'\n",
    "r = requests.get(url)\n",
    "data = r.json()\n",
    "\n",
    "print(data)\n",
    "\n",
    "print(\"Country:\\t\", data[\"Country\"])"
   ]
  },
  {
   "cell_type": "code",
   "execution_count": 29,
   "id": "744d6bf5",
   "metadata": {},
   "outputs": [],
   "source": [
    "def get_year(company_founding_year):\n",
    "    return (company_founding_year%8)+2016"
   ]
  },
  {
   "cell_type": "code",
   "execution_count": 30,
   "id": "977d498d",
   "metadata": {},
   "outputs": [
    {
     "name": "stdout",
     "output_type": "stream",
     "text": [
      "Company: 1990\tYear: 2022\n",
      "Company: 1991\tYear: 2023\n",
      "Company: 1992\tYear: 2016\n",
      "Company: 1993\tYear: 2017\n",
      "Company: 1994\tYear: 2018\n",
      "Company: 1995\tYear: 2019\n",
      "Company: 1996\tYear: 2020\n",
      "Company: 1997\tYear: 2021\n",
      "Company: 1998\tYear: 2022\n",
      "Company: 1999\tYear: 2023\n",
      "Company: 2000\tYear: 2016\n",
      "Company: 2001\tYear: 2017\n",
      "Company: 2002\tYear: 2018\n",
      "Company: 2003\tYear: 2019\n",
      "Company: 2004\tYear: 2020\n",
      "Company: 2005\tYear: 2021\n",
      "Company: 2006\tYear: 2022\n",
      "Company: 2007\tYear: 2023\n",
      "Company: 2008\tYear: 2016\n",
      "Company: 2009\tYear: 2017\n",
      "Company: 2010\tYear: 2018\n",
      "Company: 2011\tYear: 2019\n",
      "Company: 2012\tYear: 2020\n",
      "Company: 2013\tYear: 2021\n",
      "Company: 2014\tYear: 2022\n",
      "Company: 2015\tYear: 2023\n",
      "Company: 2016\tYear: 2016\n",
      "Company: 2017\tYear: 2017\n",
      "Company: 2018\tYear: 2018\n",
      "Company: 2019\tYear: 2019\n",
      "Company: 2020\tYear: 2020\n",
      "Company: 2021\tYear: 2021\n",
      "Company: 2022\tYear: 2022\n",
      "Company: 2023\tYear: 2023\n"
     ]
    }
   ],
   "source": [
    "for i in range(1990, 2024):\n",
    "    print(f\"Company: {i}\\tYear: {get_year(i)}\")"
   ]
  },
  {
   "cell_type": "code",
   "execution_count": 33,
   "id": "72642f5e",
   "metadata": {},
   "outputs": [
    {
     "name": "stderr",
     "output_type": "stream",
     "text": [
      "WARNING: Ignoring invalid distribution -ip (c:\\python310\\lib\\site-packages)\n",
      "WARNING: Ignoring invalid distribution - (c:\\python310\\lib\\site-packages)\n",
      "WARNING: Ignoring invalid distribution -ip (c:\\python310\\lib\\site-packages)\n",
      "WARNING: Ignoring invalid distribution - (c:\\python310\\lib\\site-packages)\n",
      "ERROR: Could not find a version that satisfies the requirement urllib2 (from versions: none)\n",
      "ERROR: No matching distribution found for urllib2\n",
      "WARNING: Ignoring invalid distribution -ip (c:\\python310\\lib\\site-packages)\n",
      "WARNING: Ignoring invalid distribution - (c:\\python310\\lib\\site-packages)\n",
      "WARNING: Ignoring invalid distribution -ip (c:\\python310\\lib\\site-packages)\n",
      "WARNING: Ignoring invalid distribution - (c:\\python310\\lib\\site-packages)\n",
      "WARNING: Ignoring invalid distribution -ip (c:\\python310\\lib\\site-packages)\n",
      "WARNING: Ignoring invalid distribution - (c:\\python310\\lib\\site-packages)\n",
      "\n",
      "[notice] A new release of pip available: 22.2.2 -> 23.0.1\n",
      "[notice] To update, run: python.exe -m pip install --upgrade pip\n"
     ]
    },
    {
     "name": "stdout",
     "output_type": "stream",
     "text": [
      "Collecting BeautifulSoup\n",
      "  Downloading BeautifulSoup-3.2.2.tar.gz (32 kB)\n",
      "  Preparing metadata (setup.py): started\n",
      "  Preparing metadata (setup.py): finished with status 'error'\n"
     ]
    },
    {
     "name": "stderr",
     "output_type": "stream",
     "text": [
      "WARNING: Ignoring invalid distribution -ip (c:\\python310\\lib\\site-packages)\n",
      "WARNING: Ignoring invalid distribution - (c:\\python310\\lib\\site-packages)\n",
      "WARNING: Ignoring invalid distribution -ip (c:\\python310\\lib\\site-packages)\n",
      "WARNING: Ignoring invalid distribution - (c:\\python310\\lib\\site-packages)\n",
      "  error: subprocess-exited-with-error\n",
      "  \n",
      "  python setup.py egg_info did not run successfully.\n",
      "  exit code: 1\n",
      "  \n",
      "  [7 lines of output]\n",
      "  Traceback (most recent call last):\n",
      "    File \"<string>\", line 2, in <module>\n",
      "    File \"<pip-setuptools-caller>\", line 34, in <module>\n",
      "    File \"C:\\Users\\Sixtium\\AppData\\Local\\Temp\\pip-install-cm8xo508\\beautifulsoup_b55a688173fd42568c6a0012c85f1f98\\setup.py\", line 3\n",
      "      \"You're trying to run a very old release of Beautiful Soup under Python 3. This will not work.\"<>\"Please use Beautiful Soup 4, available through the pip package 'beautifulsoup4'.\"\n",
      "                                                                                                     ^^\n",
      "  SyntaxError: invalid syntax\n",
      "  [end of output]\n",
      "  \n",
      "  note: This error originates from a subprocess, and is likely not a problem with pip.\n",
      "error: metadata-generation-failed\n",
      "\n",
      "Encountered error while generating package metadata.\n",
      "\n",
      "See above for output.\n",
      "\n",
      "note: This is an issue with the package mentioned above, not pip.\n",
      "hint: See above for details.\n",
      "WARNING: Ignoring invalid distribution -ip (c:\\python310\\lib\\site-packages)\n",
      "WARNING: Ignoring invalid distribution - (c:\\python310\\lib\\site-packages)\n",
      "WARNING: Ignoring invalid distribution -ip (c:\\python310\\lib\\site-packages)\n",
      "WARNING: Ignoring invalid distribution - (c:\\python310\\lib\\site-packages)\n",
      "WARNING: Ignoring invalid distribution -ip (c:\\python310\\lib\\site-packages)\n",
      "WARNING: Ignoring invalid distribution - (c:\\python310\\lib\\site-packages)\n",
      "\n",
      "[notice] A new release of pip available: 22.2.2 -> 23.0.1\n",
      "[notice] To update, run: python.exe -m pip install --upgrade pip\n"
     ]
    },
    {
     "ename": "ModuleNotFoundError",
     "evalue": "No module named 'urllib2'",
     "output_type": "error",
     "traceback": [
      "\u001b[1;31m---------------------------------------------------------------------------\u001b[0m",
      "\u001b[1;31mModuleNotFoundError\u001b[0m                       Traceback (most recent call last)",
      "Cell \u001b[1;32mIn [33], line 4\u001b[0m\n\u001b[0;32m      1\u001b[0m get_ipython()\u001b[38;5;241m.\u001b[39msystem(\u001b[38;5;124m'\u001b[39m\u001b[38;5;124mpip install urllib2\u001b[39m\u001b[38;5;124m'\u001b[39m)\n\u001b[0;32m      2\u001b[0m get_ipython()\u001b[38;5;241m.\u001b[39msystem(\u001b[38;5;124m'\u001b[39m\u001b[38;5;124mpip install BeautifulSoup\u001b[39m\u001b[38;5;124m'\u001b[39m)\n\u001b[1;32m----> 4\u001b[0m \u001b[38;5;28;01mimport\u001b[39;00m \u001b[38;5;21;01murllib2\u001b[39;00m\n\u001b[0;32m      5\u001b[0m \u001b[38;5;28;01mfrom\u001b[39;00m \u001b[38;5;21;01mBeautifulSoup\u001b[39;00m \u001b[38;5;28;01mimport\u001b[39;00m BeautifulSoup\n\u001b[0;32m      7\u001b[0m LINK \u001b[38;5;241m=\u001b[39m \u001b[38;5;124m\"\u001b[39m\u001b[38;5;124mhttp://investing.businessweek.com/research/stocks/private/snapshot.asp?privcapId=1716794\u001b[39m\u001b[38;5;124m\"\u001b[39m\n",
      "\u001b[1;31mModuleNotFoundError\u001b[0m: No module named 'urllib2'"
     ]
    }
   ],
   "source": [
    "!pip install urllib2\n",
    "!pip install BeautifulSoup\n",
    "\n",
    "import urllib2\n",
    "from BeautifulSoup import BeautifulSoup\n",
    "\n",
    "LINK = \"http://investing.businessweek.com/research/stocks/private/snapshot.asp?privcapId=1716794\"\n",
    "opener = urllib2.build_opener()\n",
    "opener.addheaders = [('User-agent', 'Google Chrome')]\n",
    "\n",
    "soup = BeautifulSoup(opener.open(LINK))\n",
    "\n",
    "location = soup.find('div', {'itemprop': 'address'}).findAll('p')[-1].text\n",
    "founded = soup.find('span', {'itemprop': \"foundingDate\"}).text\n",
    "\n",
    "print (location, founded)"
   ]
  },
  {
   "cell_type": "code",
   "execution_count": null,
   "id": "efd35e2d",
   "metadata": {},
   "outputs": [],
   "source": []
  }
 ],
 "metadata": {
  "kernelspec": {
   "display_name": "Python 3 (ipykernel)",
   "language": "python",
   "name": "python3"
  },
  "language_info": {
   "codemirror_mode": {
    "name": "ipython",
    "version": 3
   },
   "file_extension": ".py",
   "mimetype": "text/x-python",
   "name": "python",
   "nbconvert_exporter": "python",
   "pygments_lexer": "ipython3",
   "version": "3.10.5"
  }
 },
 "nbformat": 4,
 "nbformat_minor": 5
}
